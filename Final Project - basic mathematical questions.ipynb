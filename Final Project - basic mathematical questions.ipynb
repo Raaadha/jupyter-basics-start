{
 "cells": [
  {
   "cell_type": "markdown",
   "id": "70791102",
   "metadata": {},
   "source": [
    "# Final Project"
   ]
  },
  {
   "cell_type": "markdown",
   "id": "d39aed2a",
   "metadata": {},
   "source": [
    "## Basic mathematical questions"
   ]
  },
  {
   "cell_type": "markdown",
   "id": "99bbff90",
   "metadata": {},
   "source": [
    "### 1. A car with a full tank of gas drives 80 miles per hour for 3 hours before running out of gas. How many miles can the car go per tank?"
   ]
  },
  {
   "cell_type": "code",
   "execution_count": 5,
   "id": "a88006ac",
   "metadata": {},
   "outputs": [
    {
     "name": "stdout",
     "output_type": "stream",
     "text": [
      "The car can go 240 miles on a full tank of gas\n"
     ]
    }
   ],
   "source": [
    "speed = 80 #miles per hr\n",
    "time = 3 #hours\n",
    "\n",
    "distance = speed*time #miles\n",
    "\n",
    "print(\"The car can go\", distance,\"miles on a full tank of gas\")"
   ]
  },
  {
   "cell_type": "markdown",
   "id": "92e45194",
   "metadata": {},
   "source": [
    "### 2. A runner travels a half marathon (13.1 miles) in 3 hours. How fast was this runner going in miles per hour?"
   ]
  },
  {
   "cell_type": "code",
   "execution_count": 6,
   "id": "a51166ac",
   "metadata": {},
   "outputs": [
    {
     "name": "stdout",
     "output_type": "stream",
     "text": [
      "the runner was going at a speed of 4.366666666666666 miles per hr\n"
     ]
    }
   ],
   "source": [
    "distance = 13.1 #miles\n",
    "time = 3 #hrs \n",
    "\n",
    "speed = distance/time #miles per hr\n",
    "\n",
    "print(\"the runner was going at a speed of\",speed,\"miles per hr\")"
   ]
  },
  {
   "cell_type": "markdown",
   "id": "4e8cbd33",
   "metadata": {},
   "source": [
    "### 3.The spread of a virus is exponential. If 5 people are infected and each person infects 2 other people, how many people have been infected after 5 rounds of infection?"
   ]
  },
  {
   "cell_type": "code",
   "execution_count": 8,
   "id": "8974b2de",
   "metadata": {},
   "outputs": [
    {
     "name": "stdout",
     "output_type": "stream",
     "text": [
      "After 5 rounds of infection,a total of 160 people have been infected\n"
     ]
    }
   ],
   "source": [
    "initially_infected = 5 #initial number of infected people\n",
    "infection_rate = 2 #number of people infected bt each infected person\n",
    "rounds = 5 # number of rounds of infection\n",
    "\n",
    "total_people_infected = initially_infected*(infection_rate**rounds)\n",
    "\n",
    "print(\"After\",rounds,\"rounds of infection,a total of\", total_people_infected,\"people have been infected\")"
   ]
  },
  {
   "cell_type": "code",
   "execution_count": null,
   "id": "8a76ecd3",
   "metadata": {},
   "outputs": [],
   "source": [
    "#"
   ]
  }
 ],
 "metadata": {
  "kernelspec": {
   "display_name": "Python 3 (ipykernel)",
   "language": "python",
   "name": "python3"
  },
  "language_info": {
   "codemirror_mode": {
    "name": "ipython",
    "version": 3
   },
   "file_extension": ".py",
   "mimetype": "text/x-python",
   "name": "python",
   "nbconvert_exporter": "python",
   "pygments_lexer": "ipython3",
   "version": "3.10.9"
  }
 },
 "nbformat": 4,
 "nbformat_minor": 5
}
