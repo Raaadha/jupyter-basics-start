{
 "cells": [
  {
   "cell_type": "markdown",
   "metadata": {},
   "source": [
    "## This notebook provides examples of markdown language. Double click on the cell to see the syntax that generated it.\n",
    "_ _ _"
   ]
  },
  {
   "cell_type": "markdown",
   "metadata": {},
   "source": [
    "<a id=\"anchor\"></a>\n",
    "# Heading Level 1"
   ]
  },
  {
   "cell_type": "markdown",
   "metadata": {},
   "source": [
    "## Heading Level 2"
   ]
  },
  {
   "cell_type": "markdown",
   "metadata": {},
   "source": [
    "### Heading Level 3"
   ]
  },
  {
   "cell_type": "markdown",
   "metadata": {},
   "source": [
    "#### Heading Level 4"
   ]
  },
  {
   "cell_type": "markdown",
   "metadata": {},
   "source": [
    "##### Heading Level 5"
   ]
  },
  {
   "cell_type": "markdown",
   "metadata": {},
   "source": [
    "---"
   ]
  },
  {
   "cell_type": "markdown",
   "metadata": {},
   "source": [
    "*italics*"
   ]
  },
  {
   "cell_type": "markdown",
   "metadata": {},
   "source": [
    "**bold**"
   ]
  },
  {
   "cell_type": "markdown",
   "metadata": {},
   "source": [
    "\\*literal asterisks\\*"
   ]
  },
  {
   "cell_type": "markdown",
   "metadata": {},
   "source": [
    "~~strikethrough~~"
   ]
  },
  {
   "cell_type": "markdown",
   "metadata": {},
   "source": [
    "> blockquote text"
   ]
  },
  {
   "cell_type": "markdown",
   "metadata": {},
   "source": [
    "### Two spaces is a line break\n",
    "A \n",
    "Line  \n",
    "Break"
   ]
  },
  {
   "cell_type": "markdown",
   "metadata": {},
   "source": [
    "* * *"
   ]
  },
  {
   "cell_type": "markdown",
   "metadata": {},
   "source": [
    "### Checkbox list\n",
    "- [x] Done\n",
    "- [ ] To do"
   ]
  },
  {
   "cell_type": "markdown",
   "metadata": {},
   "source": [
    "### Ordered list\n",
    "1. First item\n",
    " 1. First subitem\n",
    " 2. Second subitem\n",
    "2. Second item"
   ]
  },
  {
   "cell_type": "markdown",
   "metadata": {},
   "source": [
    "### Unordered list (method 1)\n",
    "* Item 1\n",
    "* Item 2"
   ]
  },
  {
   "cell_type": "markdown",
   "metadata": {},
   "source": [
    "### Unordered list (method 2)\n",
    "- Item 1\n",
    "- Item 2"
   ]
  },
  {
   "cell_type": "markdown",
   "metadata": {},
   "source": [
    "_ _ _"
   ]
  },
  {
   "cell_type": "markdown",
   "metadata": {},
   "source": [
    "|Left  |Center|Right|\n",
    "|:-----|:----:|----:|\n",
    "|1     |A     |C    |\n",
    "|2     |B     |D    |"
   ]
  },
  {
   "cell_type": "markdown",
   "metadata": {},
   "source": [
    "|Left  |Left  |Left |\n",
    "|:-----|:-----|:----|\n",
    "|1     |A     |C    |\n",
    "|2     |B     |D    |"
   ]
  },
  {
   "cell_type": "markdown",
   "metadata": {},
   "source": [
    "$$\\sqrt{k}$$\n",
    "Inline is useful in sentence format: $\\sqrt{k}$"
   ]
  },
  {
   "attachments": {
    "iCER_door_logo_2.jpg": {
     "image/jpeg": "[encoded data removed]"
    }
   },
   "cell_type": "markdown",
   "metadata": {},
   "source": [
    "### To insert picture files, go to the Edit dropdown menu and click on \"Insert Image\" toward the bottom of the menu. You can select the desired picture through the resulting dialog box.\n",
    "![iCER_door_logo_2.jpg](attachment:iCER_door_logo_2.jpg)"
   ]
  },
  {
   "cell_type": "markdown",
   "metadata": {},
   "source": [
    "### Right click on internet picture and then click Inspect to find needed syntax needed to post this example internet picture.\n",
    "[![Img Alt Text](https://icer.msu.edu/sites/default/files/DSC04556.jpg)](https://icer.msu.edu/about \"ICER Staff Group Picture\")"
   ]
  },
  {
   "cell_type": "markdown",
   "metadata": {},
   "source": [
    "[Link to SQLbak.com](https://sqlbak.com)"
   ]
  },
  {
   "cell_type": "markdown",
   "metadata": {},
   "source": [
    "### Anchors are links to different loctions in same document. This anchor will take you to the top of the document. Must run cell with anchor (first cell in document) before running  this cell for this cell to work properly.\n",
    "[Go to anchor](#anchor)"
   ]
  }
 ],
 "metadata": {
  "kernelspec": {
   "display_name": "Python 3",
   "language": "python",
   "name": "python3"
  },
  "language_info": {
   "codemirror_mode": {
    "name": "ipython",
    "version": 3
   },
   "file_extension": ".py",
   "mimetype": "text/x-python",
   "name": "python",
   "nbconvert_exporter": "python",
   "pygments_lexer": "ipython3",
   "version": "3.8.5"
  }
 },
 "nbformat": 4,
 "nbformat_minor": 4
}
